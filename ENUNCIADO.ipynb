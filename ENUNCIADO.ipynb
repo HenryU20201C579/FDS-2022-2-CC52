{
 "cells": [
  {
   "cell_type": "markdown",
   "metadata": {},
   "source": [
    "##### **Objetivo:**"
   ]
  },
  {
   "cell_type": "markdown",
   "metadata": {},
   "source": [
    "Realizar una propuesta de análisis de un conjunto de datos, aplicando la metodología CRISP-DM, teniendo las siguientes consideraciones:\n",
    "\n",
    "    - Crear conocimiento con la data.\n",
    "    - Crear valor con la data.\n",
    "    - Toma de decisiones basadas en data."
   ]
  },
  {
   "cell_type": "markdown",
   "metadata": {},
   "source": [
    "##### **Competencias:**"
   ]
  },
  {
   "cell_type": "markdown",
   "metadata": {},
   "source": [
    "Serán evaluadas las competencias, según Rúbrica: CC216-TF-N1\n",
    "\n",
    "El estudiante demostrará lo aprendido sobre los Fundamentos de Data Science, aplicando de forma práctica: la teoría, técnicas y herramientas utilizadas para el análisis y analítica a lo largo del ciclo de vida de un proyecto de ciencia de datos."
   ]
  },
  {
   "cell_type": "markdown",
   "metadata": {},
   "source": [
    "**Descripción del Proyecto de Ciencia de Datos**"
   ]
  },
  {
   "cell_type": "markdown",
   "metadata": {},
   "source": [
    "##### **Alcance:**"
   ]
  },
  {
   "cell_type": "markdown",
   "metadata": {},
   "source": [
    "Una consultora con sede en Lima, solicita desarrollar un proyecto de analítica con la finalidad de conocer las características de los clientes que compran una Bicicleta. \n",
    "\n",
    "El proyecto responde a la necesidad de su cliente, una importante empresa de venta de bicicletas, que desea obtener respuestas a varios requerimientos de información."
   ]
  },
  {
   "cell_type": "markdown",
   "metadata": {},
   "source": [
    "##### **\\_Requerimientos:\\_**"
   ]
  },
  {
   "cell_type": "markdown",
   "metadata": {},
   "source": [
    "A continuación se detalla una lista de preguntas:\n",
    "\n",
    "1. Recodificar de acuerdo a su criterio la variable Income. ¿De qué rango de ingreso mejor proporción (ratio) compran más bicicletas?\n",
    "\n",
    "2. ¿Quiénes compran bicicletas a nivel de rango de ingresos y género?\n",
    "\n",
    "3. ¿Quiénes compran bicicletas a nivel de rango de ingresos y estado civil?\n",
    "\n",
    "4. Calcular la correlación entre las variables numéricas de los clientes que compran bicicletas.\n",
    "\n",
    "5. ¿Qué regiones presentan el mayor número de compra “Yes” y “No”.\n",
    "\n",
    "6. Analizar las variables Gender, Occupation y Children.\n",
    "\n",
    "7. Analizar las variables Education e Income.\n",
    "\n",
    "8. Analizar las variables Occupation y Cars.\n",
    "\n",
    "9. Analizar las variables HomeOwner, Cars y Children.\n",
    "\n",
    "10. Analizar las variables CommuteDistance y Home Owner.\n",
    "\n",
    "11. Utilice su criterio para analizar otra combinación de variables.\n",
    "\n",
    "Adicionalmente, al cliente le gustaría conocer si:\n",
    "\n",
    "* ¿Es factible predecir si un cliente compra o no compra la bicicleta?"
   ]
  },
  {
   "cell_type": "markdown",
   "metadata": {},
   "source": [
    "##### **Conjunto de Datos:**"
   ]
  },
  {
   "cell_type": "markdown",
   "metadata": {},
   "source": [
    "El conjunto de datos motivo de análisis se denomina: **bike_buyers.csv**\n",
    "\n",
    "Este conjunto de datos tiene detalles de 1000 usuarios de diferentes orígenes y si compran o no una bicicleta"
   ]
  },
  {
   "cell_type": "markdown",
   "metadata": {},
   "source": [
    "##### **Variables:**"
   ]
  },
  {
   "cell_type": "markdown",
   "metadata": {},
   "source": [
    "* ID -> the buyers ID. \n",
    "\n",
    "* Marital Status -> The buyer’s state of being married or single.\n",
    "\n",
    "* Gender -> The buyer’s state either the buyer are male or female.\n",
    "\n",
    "* Income -> Buyer’s income in a certain time.\n",
    "\n",
    "* Children -> The number of children the buyer has. \n",
    "\n",
    "* Education -> Buyer’s education background either Bachelors, Graduate Degree, High School, Partial College, or Partial High School. \n",
    "\n",
    "* Occupation -> The buyer’s job or occupation either Clerical, Management, Manual,Professional, or Skilled Manual. \n",
    "\n",
    "* Home Owner -> Buyer’s state whether the buyer has or does not have their own house. \n",
    "\n",
    "* Cars -> The number of cars the buyer has. \n",
    "\n",
    "* Commute Distance -> The distance between the buyer’s house and the buyer’s company. There are 5 categories; 0-1 Miles, 1-2 Miles 10+ Miles, 2-5 Miles, and 5-10 Miles. \n",
    "\n",
    "* Region -> Variable that tell us where the buyer lives either at Europe, North America, or Pacific. \n",
    "\n",
    "* Age -> The buyer’s age. \n",
    "\n",
    "* Purchased Bike -> Buyer’s state whether the buyer purchased the bike or not. \n",
    "\n",
    "Variable dependiente Y: Purchased Bike\n"
   ]
  },
  {
   "cell_type": "markdown",
   "metadata": {},
   "source": [
    "##### **Documento Entregable:**"
   ]
  },
  {
   "cell_type": "markdown",
   "metadata": {},
   "source": [
    "El grupo de estudiantes entregará un único documento de tipo PDF, desarrollando los siguientes temas:\n",
    "\n",
    " \n",
    "\n",
    "1. INTEGRANTES DEL GRUPO: De acuerdo con el rol que presentará en la exposición del trabajo o desarrollo de su proyecto:\n",
    "\n",
    " - BusinessProject Sponsor\n",
    "\n",
    " - DataScience\n",
    "\n",
    " - DataEngineer\n",
    "\n",
    " - DataAnalytics\n",
    "\n",
    "2. OBJETIVOS DEL PROYECTO: Escriba en forma precisa el objetivo de su análisis o preguntas a resolver, así como el conocimiento que se pretende estimar o predecir mediante un modelo de datos.\n",
    "\n",
    "3. OBJETIVOS ESPECÍFICOS: Si corresponde, máximo 3.\n",
    "\n",
    "4. CASO DE ANALISIS: Casos de uso aplicables (describir, por ejemplo: ¿Para quién sería importante el análisis de estos datos?, ¿Quién o quienes se benefician?, ¿A quién va dirigido el desarrollo del proyecto?)\n",
    "\n",
    "5. CONJUNTO DE DATOS: Descripción de la estructura de los datos.\n",
    "\n",
    "6. ANALISIS EXPLORATORIO DE DATOS-EDA:\n",
    "\n",
    "    Este análisis está compuesto por las tareas de carga, inspección, preprocesamiento y visualización de los datos. \n",
    "\n",
    "    Producto del análisis exploratorio de los datos, con los datos limpios (y a partir del nuevo conjunto de datos generado), se deberá dar respuesta a los requerimientos solicitados.\n",
    "\n",
    "    Tener en cuenta que cada respuesta deberá estar acompañada de una visualización. \n",
    "\n",
    "CARGAR LOS DATOS\n",
    "\n",
    "INSPECCIONAR LOS DATOS\n",
    "\n",
    "    Los equipos deberán explorar los datos, verificando por ejemplo: estructura, tipo, valores de los datos, nombre de columnas, etc.\n",
    "\n",
    "PRE-PROCESAR LOS DATOS\n",
    "\n",
    "    Considerar crear nuevas columnas de ser necesario.\n",
    "\n",
    "    Verificar datos faltantes: analizar la aplicación de alguna técnica para su tratamiento.\n",
    "\n",
    "    No olvidar explicar que técnica fue utilizada para eliminar o completar los datos faltantes.\n",
    "\n",
    "    Identificación de los datos atípicos u outliers (si los hubiera).\n",
    "\n",
    "    Explicación y aplicación de la(s) técnica(s) utilizada(s) para transformar los datos atípicos (si los hubiera).\n",
    "\n",
    "VISUALIZAR LOS DATOS\n",
    "\n",
    "    Toda visualización deberá tener un título, una leyenda y de ser necesario, una tabla de datos que complemente su entendimiento.\n",
    "\n",
    "7. METODO(S) A UTILIZAR:\n",
    "\n",
    "    * Identificar qué variables en el conjunto de datos son susceptibles a ser modeladas.\n",
    "    * Describir el \"conocimiento\" que se intenta extraer a partir de la aplicación de un modelo de datos.\n",
    "    * Utilizar algún algoritmo innovador (según la pregunta responder) para crear un modelo de datos (ejemplo: algoritmo de regresión lineal/regresión logística).\n",
    "    * Obtener métricas y realizar una evaluación del resultado obtenido en el modelo.\n",
    "8. CONCLUSIONES DEL PROYECTO: Las conclusiones resultan de las respuestas que cada equipo proporcionará por cada uno de los requerimientos del proyecto.\n",
    "\n",
    "9. ARCHIVAR Y PUBLICAR:\n",
    "\n",
    "    Se deberá contemplar un repositorio llamado FDS-2022-2-CC52 conteniendo dos carpetas:\n",
    "\n",
    "    * **data**: deberá contener el conjunto de datos inicial y el final resultante (limpio o preparado para análisis).\n",
    "    * **code**: deberá contener los notebooks Python utilizados para el proceso de carga, inspección, pre-procesado y visualización del conjunto de datos.\n",
    "    \n",
    "    El archivo Readme, dentro de GitHub deberá contemplar:\n",
    "\n",
    "    * Objetivo del proyecto.\n",
    "    * Nombre de los alumnos participantes.\n",
    "    * Breve descripción del conjunto de datos (se puede adjuntar el archivo PDF).\n",
    "    * Conclusiones.\n",
    "    * Licencia de uso.\n",
    "\n",
    "Guiarse de estos ejemplos de publicaciones de trabajos en GitHub: \n",
    "\n",
    "https://github.com/fernandoabcampos/titanic-data-cleaning-and-validation\n",
    "\n",
    "https://github.com/navarroyepes/TCVDPRAC2\n",
    "\n",
    "\n",
    "Se ha creado un Foro en el Aula Virtual denominado FORO DEL PROYECTO DE ANALITICA, para que los equipos puedan compartir y/o encontrar respuestas a consultas/dudas durante la ejecución del proyecto.\n",
    "\n",
    "En el documento entregable, **se deberá incluir el enlace a la cuenta de Github.com** desde donde se accede a la publicación del proyecto."
   ]
  },
  {
   "cell_type": "markdown",
   "metadata": {},
   "source": [
    "##### **Nomenclatura de Archivos:**"
   ]
  },
  {
   "cell_type": "markdown",
   "metadata": {},
   "source": [
    "upc-pre-202202-cc52-nrogrupo-tf.pdf\n",
    "\n",
    "upc-pre-202202-cc52-nrogrupo-tf.pptx\n",
    "\n",
    "Sólo se debe entregar un archivo pdf y pptx por grupo."
   ]
  },
  {
   "cell_type": "markdown",
   "metadata": {},
   "source": [
    "**Fecha límite de entrega:** 23/11/2022 a las 22:59h"
   ]
  },
  {
   "cell_type": "markdown",
   "metadata": {},
   "source": [
    "##### **Sustentanción del Trabajo:**"
   ]
  },
  {
   "cell_type": "markdown",
   "metadata": {},
   "source": [
    "Se realizará el día 25/11/2022 de acuerdo con el siguiente horario:\n",
    "\n",
    "\n",
    "* Grupo 4: 7:20 a 7:35 hrs\n",
    "\n",
    "* Grupo 1: 7:40 a 7:55 hrs\n",
    "\n",
    "* Grupo 2: 8:00 a 8:15 hrs\n",
    "\n",
    "* Grupo 3: 8:20 a 8:35 hrs\n",
    "\n",
    "\n",
    "Considere tener la cámara encendida."
   ]
  }
 ],
 "metadata": {
  "kernelspec": {
   "display_name": "Python 3.10.8 64-bit",
   "language": "python",
   "name": "python3"
  },
  "language_info": {
   "codemirror_mode": {
    "name": "ipython",
    "version": 3
   },
   "file_extension": ".py",
   "mimetype": "text/x-python",
   "name": "python",
   "nbconvert_exporter": "python",
   "pygments_lexer": "ipython3",
   "version": "3.10.8"
  },
  "orig_nbformat": 4,
  "vscode": {
   "interpreter": {
    "hash": "6a57af3429fe39f1db95ae52500f0dc20b0d5b033a19c06462446e07082bc71c"
   }
  }
 },
 "nbformat": 4,
 "nbformat_minor": 2
}
